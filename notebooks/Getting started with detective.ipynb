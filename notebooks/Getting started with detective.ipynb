{
 "cells": [
  {
   "cell_type": "markdown",
   "metadata": {},
   "source": [
    "Notebook showing usage of the data detective."
   ]
  },
  {
   "cell_type": "code",
   "execution_count": 24,
   "metadata": {},
   "outputs": [],
   "source": [
    "# To import detective from relative folder\n",
    "import detective.core as detective\n",
    "import detective.functions as functions\n",
    "import pandas as pd"
   ]
  },
  {
   "cell_type": "markdown",
   "metadata": {},
   "source": [
    "Supply the db_url as described in the [recorder integration docs](https://www.home-assistant.io/integrations/recorder/)."
   ]
  },
  {
   "cell_type": "code",
   "execution_count": null,
   "metadata": {},
   "outputs": [],
   "source": [
    "db_url = \"sqlite://///Users/robin/Github/HASS-data-detective/tests/test.db\""
   ]
  },
  {
   "cell_type": "code",
   "execution_count": 26,
   "metadata": {},
   "outputs": [
    {
     "name": "stdout",
     "output_type": "stream",
     "text": [
      "Successfully connected to database sqlite://///Users/robin/Github/HASS-data-detective/tests/test.db\n",
      "There are 9 entities with data\n"
     ]
    }
   ],
   "source": [
    "db = detective.HassDatabase(db_url) # To init without fetching entities fetch_entities=False"
   ]
  },
  {
   "cell_type": "markdown",
   "metadata": {
    "collapsed": false,
    "inputHidden": false,
    "jupyter": {
     "outputs_hidden": false
    },
    "outputHidden": false
   },
   "source": [
    "Alternatively, detective can discover your database credentials"
   ]
  },
  {
   "cell_type": "code",
   "execution_count": 27,
   "metadata": {
    "collapsed": false,
    "inputHidden": false,
    "jupyter": {
     "outputs_hidden": false
    },
    "outputHidden": false
   },
   "outputs": [],
   "source": [
    "# db = detective.db_from_hass_config()"
   ]
  },
  {
   "cell_type": "markdown",
   "metadata": {},
   "source": [
    "Entities are listed on an attribute"
   ]
  },
  {
   "cell_type": "code",
   "execution_count": 28,
   "metadata": {},
   "outputs": [
    {
     "data": {
      "text/plain": [
       "['persistent_notification.config_entry_discovery',\n",
       " 'sensor.sun_next_dawn',\n",
       " 'sensor.sun_next_dusk',\n",
       " 'sensor.sun_next_midnight',\n",
       " 'sensor.sun_next_noon',\n",
       " 'sensor.sun_next_rising',\n",
       " 'sensor.sun_next_setting',\n",
       " 'sun.sun',\n",
       " 'zone.home']"
      ]
     },
     "execution_count": 28,
     "metadata": {},
     "output_type": "execute_result"
    }
   ],
   "source": [
    "db.entities"
   ]
  },
  {
   "cell_type": "markdown",
   "metadata": {},
   "source": [
    "Use `fetch_all_data_of()` to get data for a single entity"
   ]
  },
  {
   "cell_type": "code",
   "execution_count": 29,
   "metadata": {},
   "outputs": [
    {
     "name": "stdout",
     "output_type": "stream",
     "text": [
      "\n",
      "            WITH combined_states AS (\n",
      "                SELECT states.state, states.last_updated_ts, states_meta.entity_id\n",
      "                FROM states\n",
      "                JOIN states_meta\n",
      "                ON states.metadata_id = states_meta.metadata_id\n",
      "            )\n",
      "            SELECT *\n",
      "            FROM combined_states\n",
      "            WHERE \n",
      "                entity_id IN ('zone.home')\n",
      "            AND\n",
      "                state NOT IN ('unknown', 'unavailable')\n",
      "            ORDER BY last_updated_ts DESC\n",
      "        LIMIT 50000\n",
      "The returned Pandas dataframe has 1 rows of data.\n"
     ]
    }
   ],
   "source": [
    "df = db.fetch_all_data_of(('zone.home',))"
   ]
  },
  {
   "cell_type": "code",
   "execution_count": 30,
   "metadata": {},
   "outputs": [
    {
     "data": {
      "text/html": [
       "<div>\n",
       "<style scoped>\n",
       "    .dataframe tbody tr th:only-of-type {\n",
       "        vertical-align: middle;\n",
       "    }\n",
       "\n",
       "    .dataframe tbody tr th {\n",
       "        vertical-align: top;\n",
       "    }\n",
       "\n",
       "    .dataframe thead th {\n",
       "        text-align: right;\n",
       "    }\n",
       "</style>\n",
       "<table border=\"1\" class=\"dataframe\">\n",
       "  <thead>\n",
       "    <tr style=\"text-align: right;\">\n",
       "      <th></th>\n",
       "      <th>state</th>\n",
       "      <th>last_updated_ts</th>\n",
       "      <th>entity_id</th>\n",
       "    </tr>\n",
       "  </thead>\n",
       "  <tbody>\n",
       "    <tr>\n",
       "      <th>0</th>\n",
       "      <td>0</td>\n",
       "      <td>1.680324e+09</td>\n",
       "      <td>zone.home</td>\n",
       "    </tr>\n",
       "  </tbody>\n",
       "</table>\n",
       "</div>"
      ],
      "text/plain": [
       "  state  last_updated_ts  entity_id\n",
       "0     0     1.680324e+09  zone.home"
      ]
     },
     "execution_count": 30,
     "metadata": {},
     "output_type": "execute_result"
    }
   ],
   "source": [
    "df.head()"
   ]
  },
  {
   "attachments": {},
   "cell_type": "markdown",
   "metadata": {},
   "source": [
    "Use `fetch_all_sensor_data()` to fetch all your sensor data into a pandas dataframe in memory. \n",
    "\n",
    "**Note** that by default the number of states returned is limited but this can optionally be over-ridden as shown below. "
   ]
  },
  {
   "cell_type": "code",
   "execution_count": 31,
   "metadata": {},
   "outputs": [
    {
     "name": "stdout",
     "output_type": "stream",
     "text": [
      "\n",
      "            SELECT states.state, states.last_updated_ts, states_meta.entity_id\n",
      "            FROM states\n",
      "            JOIN states_meta\n",
      "            ON states.metadata_id = states_meta.metadata_id\n",
      "            WHERE\n",
      "                states_meta.entity_id  LIKE '%sensor%'\n",
      "            AND\n",
      "                states.state NOT IN ('unknown', 'unavailable')\n",
      "            ORDER BY last_updated_ts DESC\n",
      "        LIMIT 100000\n",
      "The returned Pandas dataframe has 6 rows of data.\n"
     ]
    }
   ],
   "source": [
    "df = db.fetch_all_sensor_data(limit=100000)"
   ]
  },
  {
   "cell_type": "markdown",
   "metadata": {},
   "source": [
    "Take a minute to read about the differences between [wide-form and long-form data](https://altair-viz.github.io/user_guide/data.html#long-form-vs-wide-form-data). The Pandas dataframe we have is in long form."
   ]
  },
  {
   "cell_type": "code",
   "execution_count": 32,
   "metadata": {},
   "outputs": [
    {
     "data": {
      "text/html": [
       "<div>\n",
       "<style scoped>\n",
       "    .dataframe tbody tr th:only-of-type {\n",
       "        vertical-align: middle;\n",
       "    }\n",
       "\n",
       "    .dataframe tbody tr th {\n",
       "        vertical-align: top;\n",
       "    }\n",
       "\n",
       "    .dataframe thead th {\n",
       "        text-align: right;\n",
       "    }\n",
       "</style>\n",
       "<table border=\"1\" class=\"dataframe\">\n",
       "  <thead>\n",
       "    <tr style=\"text-align: right;\">\n",
       "      <th></th>\n",
       "      <th>state</th>\n",
       "      <th>last_updated_ts</th>\n",
       "      <th>entity_id</th>\n",
       "    </tr>\n",
       "  </thead>\n",
       "  <tbody>\n",
       "    <tr>\n",
       "      <th>0</th>\n",
       "      <td>2023-04-01T18:07:00+00:00</td>\n",
       "      <td>1.680324e+09</td>\n",
       "      <td>sensor.sun_next_setting</td>\n",
       "    </tr>\n",
       "    <tr>\n",
       "      <th>1</th>\n",
       "      <td>2023-04-01T06:00:49+00:00</td>\n",
       "      <td>1.680324e+09</td>\n",
       "      <td>sensor.sun_next_rising</td>\n",
       "    </tr>\n",
       "    <tr>\n",
       "      <th>2</th>\n",
       "      <td>2023-04-01T12:04:03+00:00</td>\n",
       "      <td>1.680324e+09</td>\n",
       "      <td>sensor.sun_next_noon</td>\n",
       "    </tr>\n",
       "    <tr>\n",
       "      <th>3</th>\n",
       "      <td>2023-04-02T00:03:37+00:00</td>\n",
       "      <td>1.680324e+09</td>\n",
       "      <td>sensor.sun_next_midnight</td>\n",
       "    </tr>\n",
       "    <tr>\n",
       "      <th>4</th>\n",
       "      <td>2023-04-01T18:28:08+00:00</td>\n",
       "      <td>1.680324e+09</td>\n",
       "      <td>sensor.sun_next_dusk</td>\n",
       "    </tr>\n",
       "    <tr>\n",
       "      <th>5</th>\n",
       "      <td>2023-04-01T05:39:42+00:00</td>\n",
       "      <td>1.680324e+09</td>\n",
       "      <td>sensor.sun_next_dawn</td>\n",
       "    </tr>\n",
       "  </tbody>\n",
       "</table>\n",
       "</div>"
      ],
      "text/plain": [
       "                       state  last_updated_ts                 entity_id\n",
       "0  2023-04-01T18:07:00+00:00     1.680324e+09   sensor.sun_next_setting\n",
       "1  2023-04-01T06:00:49+00:00     1.680324e+09    sensor.sun_next_rising\n",
       "2  2023-04-01T12:04:03+00:00     1.680324e+09      sensor.sun_next_noon\n",
       "3  2023-04-02T00:03:37+00:00     1.680324e+09  sensor.sun_next_midnight\n",
       "4  2023-04-01T18:28:08+00:00     1.680324e+09      sensor.sun_next_dusk\n",
       "5  2023-04-01T05:39:42+00:00     1.680324e+09      sensor.sun_next_dawn"
      ]
     },
     "execution_count": 32,
     "metadata": {},
     "output_type": "execute_result"
    }
   ],
   "source": [
    "df"
   ]
  },
  {
   "cell_type": "markdown",
   "metadata": {},
   "source": [
    "It is necessary to format the data before we can plot it, and detective provides a functions to assist"
   ]
  },
  {
   "cell_type": "code",
   "execution_count": 33,
   "metadata": {},
   "outputs": [],
   "source": [
    "df = functions.format_dataframe(df)"
   ]
  },
  {
   "cell_type": "code",
   "execution_count": 34,
   "metadata": {},
   "outputs": [
    {
     "data": {
      "text/html": [
       "<div>\n",
       "<style scoped>\n",
       "    .dataframe tbody tr th:only-of-type {\n",
       "        vertical-align: middle;\n",
       "    }\n",
       "\n",
       "    .dataframe tbody tr th {\n",
       "        vertical-align: top;\n",
       "    }\n",
       "\n",
       "    .dataframe thead th {\n",
       "        text-align: right;\n",
       "    }\n",
       "</style>\n",
       "<table border=\"1\" class=\"dataframe\">\n",
       "  <thead>\n",
       "    <tr style=\"text-align: right;\">\n",
       "      <th></th>\n",
       "      <th>state</th>\n",
       "      <th>last_updated_ts</th>\n",
       "      <th>entity_id</th>\n",
       "    </tr>\n",
       "  </thead>\n",
       "  <tbody>\n",
       "  </tbody>\n",
       "</table>\n",
       "</div>"
      ],
      "text/plain": [
       "Empty DataFrame\n",
       "Columns: [state, last_updated_ts, entity_id]\n",
       "Index: []"
      ]
     },
     "execution_count": 34,
     "metadata": {},
     "output_type": "execute_result"
    }
   ],
   "source": [
    "df.head()"
   ]
  },
  {
   "cell_type": "markdown",
   "metadata": {},
   "source": [
    "It is straightforward to create your own features, for example to add a `day_of_week` column"
   ]
  },
  {
   "cell_type": "code",
   "execution_count": 35,
   "metadata": {},
   "outputs": [],
   "source": [
    "df['day_of_week'] = df['last_updated_ts'].apply(lambda x : x.dayofweek)\n",
    "df['is_temperature'] = df['entity_id'].apply(lambda x : 'temperature' in x)"
   ]
  },
  {
   "cell_type": "markdown",
   "metadata": {},
   "source": [
    "You can fetch [long-term statistics](https://data.home-assistant.io/docs/statistics/) using a separate function"
   ]
  },
  {
   "cell_type": "code",
   "execution_count": 36,
   "metadata": {},
   "outputs": [
    {
     "name": "stdout",
     "output_type": "stream",
     "text": [
      "\n",
      "            WITH combined_states AS (\n",
      "                SELECT\n",
      "                    statistics.created_ts,\n",
      "                    statistics.start_ts,\n",
      "                    statistics.mean,\n",
      "                    statistics.max,\n",
      "                    statistics.sum,\n",
      "                    statistics_meta.statistic_id,\n",
      "                    statistics_meta.source,\n",
      "                    statistics_meta.unit_of_measurement,\n",
      "                    statistics_meta.has_mean,\n",
      "                    statistics_meta.has_sum\n",
      "                FROM statistics\n",
      "                JOIN statistics_meta\n",
      "                ON statistics.metadata_id = statistics_meta.id\n",
      "            )\n",
      "            SELECT *\n",
      "            FROM combined_states\n",
      "            WHERE \n",
      "                statistic_id IN ('sensor.temperature', 'sensor:temperature')\n",
      "            ORDER BY created_ts DESC\n",
      "        \n",
      "The returned Pandas dataframe has 0 rows of data.\n"
     ]
    },
    {
     "data": {
      "text/html": [
       "<div>\n",
       "<style scoped>\n",
       "    .dataframe tbody tr th:only-of-type {\n",
       "        vertical-align: middle;\n",
       "    }\n",
       "\n",
       "    .dataframe tbody tr th {\n",
       "        vertical-align: top;\n",
       "    }\n",
       "\n",
       "    .dataframe thead th {\n",
       "        text-align: right;\n",
       "    }\n",
       "</style>\n",
       "<table border=\"1\" class=\"dataframe\">\n",
       "  <thead>\n",
       "    <tr style=\"text-align: right;\">\n",
       "      <th></th>\n",
       "      <th>created_ts</th>\n",
       "      <th>start_ts</th>\n",
       "      <th>mean</th>\n",
       "      <th>max</th>\n",
       "      <th>sum</th>\n",
       "      <th>statistic_id</th>\n",
       "      <th>source</th>\n",
       "      <th>unit_of_measurement</th>\n",
       "      <th>has_mean</th>\n",
       "      <th>has_sum</th>\n",
       "    </tr>\n",
       "  </thead>\n",
       "  <tbody>\n",
       "  </tbody>\n",
       "</table>\n",
       "</div>"
      ],
      "text/plain": [
       "Empty DataFrame\n",
       "Columns: [created_ts, start_ts, mean, max, sum, statistic_id, source, unit_of_measurement, has_mean, has_sum]\n",
       "Index: []"
      ]
     },
     "execution_count": 36,
     "metadata": {},
     "output_type": "execute_result"
    }
   ],
   "source": [
    "df_long_term = db.fetch_all_statistics_of(('sensor.temperature',), limit=None)\n",
    "df_long_term"
   ]
  },
  {
   "attachments": {},
   "cell_type": "markdown",
   "metadata": {},
   "source": [
    "From here you can begin plotting"
   ]
  }
 ],
 "metadata": {
  "kernelspec": {
   "display_name": ".venv",
   "language": "python",
   "name": "python3"
  },
  "language_info": {
   "codemirror_mode": {
    "name": "ipython",
    "version": 3
   },
   "file_extension": ".py",
   "mimetype": "text/x-python",
   "name": "python",
   "nbconvert_exporter": "python",
   "pygments_lexer": "ipython3",
   "version": "3.12.0"
  },
  "nteract": {
   "version": "0.15.0"
  }
 },
 "nbformat": 4,
 "nbformat_minor": 4
}
